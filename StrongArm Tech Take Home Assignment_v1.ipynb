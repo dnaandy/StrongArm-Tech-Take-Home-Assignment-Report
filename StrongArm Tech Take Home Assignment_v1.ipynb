{
 "cells": [
  {
   "cell_type": "code",
   "execution_count": 164,
   "metadata": {},
   "outputs": [],
   "source": [
    "import pandas as pd\n",
    "import numpy as np\n",
    "import matplotlib.pyplot as plt\n",
    "import seaborn as sns\n",
    "from scipy import stats"
   ]
  },
  {
   "cell_type": "code",
   "execution_count": 165,
   "metadata": {},
   "outputs": [],
   "source": [
    "path = 'TechnicalTakeHomeAssignment_Data.xlsx'\n",
    "df_load = pd.read_excel(path, sheet_name = 'Data')"
   ]
  },
  {
   "cell_type": "code",
   "execution_count": 166,
   "metadata": {},
   "outputs": [
    {
     "data": {
      "text/html": [
       "<div>\n",
       "<style scoped>\n",
       "    .dataframe tbody tr th:only-of-type {\n",
       "        vertical-align: middle;\n",
       "    }\n",
       "\n",
       "    .dataframe tbody tr th {\n",
       "        vertical-align: top;\n",
       "    }\n",
       "\n",
       "    .dataframe thead th {\n",
       "        text-align: right;\n",
       "    }\n",
       "</style>\n",
       "<table border=\"1\" class=\"dataframe\">\n",
       "  <thead>\n",
       "    <tr style=\"text-align: right;\">\n",
       "      <th></th>\n",
       "      <th>Warehouse</th>\n",
       "      <th>Job Function</th>\n",
       "      <th>ID</th>\n",
       "      <th>Haptic Group</th>\n",
       "      <th>Baseline File Count</th>\n",
       "      <th>Baseline Average Lift Rate</th>\n",
       "      <th>Baseline Average Max Forward Bend</th>\n",
       "      <th>Baseline Average Max Tilt Velocity</th>\n",
       "      <th>Baseline Average Twist Velocity</th>\n",
       "      <th>Baseline Average Safety Score</th>\n",
       "      <th>Intervention File Count</th>\n",
       "      <th>Intervention Average Lift Rate</th>\n",
       "      <th>Intervention Average Max Forward Bend</th>\n",
       "      <th>Intervention Average Max Tilt Velocity</th>\n",
       "      <th>Intervention Average Twist Velocity</th>\n",
       "      <th>Intervention Average Safety Score</th>\n",
       "    </tr>\n",
       "  </thead>\n",
       "  <tbody>\n",
       "    <tr>\n",
       "      <th>0</th>\n",
       "      <td>Albany</td>\n",
       "      <td>Package Handler</td>\n",
       "      <td>A8R965235592</td>\n",
       "      <td>3 bends in 8 minute window over 65 degrees</td>\n",
       "      <td>19.0</td>\n",
       "      <td>155.7</td>\n",
       "      <td>93.1</td>\n",
       "      <td>88.8</td>\n",
       "      <td>23.2</td>\n",
       "      <td>59.7</td>\n",
       "      <td>13.0</td>\n",
       "      <td>131.7</td>\n",
       "      <td>75.7</td>\n",
       "      <td>76.7</td>\n",
       "      <td>23.4</td>\n",
       "      <td>67.7</td>\n",
       "    </tr>\n",
       "    <tr>\n",
       "      <th>1</th>\n",
       "      <td>Albany</td>\n",
       "      <td>Package Handler</td>\n",
       "      <td>A8R948483372</td>\n",
       "      <td>2 bends in 5 minute window over 65 degrees</td>\n",
       "      <td>7.0</td>\n",
       "      <td>153.8</td>\n",
       "      <td>97.6</td>\n",
       "      <td>76.1</td>\n",
       "      <td>24.5</td>\n",
       "      <td>62.7</td>\n",
       "      <td>2.0</td>\n",
       "      <td>142.3</td>\n",
       "      <td>90.4</td>\n",
       "      <td>88.3</td>\n",
       "      <td>24.9</td>\n",
       "      <td>60.2</td>\n",
       "    </tr>\n",
       "    <tr>\n",
       "      <th>2</th>\n",
       "      <td>Albany</td>\n",
       "      <td>Package Handler</td>\n",
       "      <td>A8R976577272</td>\n",
       "      <td>2 bends in 10 minute window over 65 degrees</td>\n",
       "      <td>16.0</td>\n",
       "      <td>145.6</td>\n",
       "      <td>86.9</td>\n",
       "      <td>76.7</td>\n",
       "      <td>21.0</td>\n",
       "      <td>66.4</td>\n",
       "      <td>17.0</td>\n",
       "      <td>124.1</td>\n",
       "      <td>69.7</td>\n",
       "      <td>76.3</td>\n",
       "      <td>20.8</td>\n",
       "      <td>70.2</td>\n",
       "    </tr>\n",
       "  </tbody>\n",
       "</table>\n",
       "</div>"
      ],
      "text/plain": [
       "  Warehouse     Job Function            ID  \\\n",
       "0    Albany  Package Handler  A8R965235592   \n",
       "1    Albany  Package Handler  A8R948483372   \n",
       "2    Albany  Package Handler  A8R976577272   \n",
       "\n",
       "                                  Haptic Group  Baseline File Count  \\\n",
       "0   3 bends in 8 minute window over 65 degrees                 19.0   \n",
       "1   2 bends in 5 minute window over 65 degrees                  7.0   \n",
       "2  2 bends in 10 minute window over 65 degrees                 16.0   \n",
       "\n",
       "   Baseline Average Lift Rate  Baseline Average Max Forward Bend  \\\n",
       "0                       155.7                               93.1   \n",
       "1                       153.8                               97.6   \n",
       "2                       145.6                               86.9   \n",
       "\n",
       "   Baseline Average Max Tilt Velocity  Baseline Average Twist Velocity  \\\n",
       "0                                88.8                             23.2   \n",
       "1                                76.1                             24.5   \n",
       "2                                76.7                             21.0   \n",
       "\n",
       "   Baseline Average Safety Score  Intervention File Count  \\\n",
       "0                           59.7                     13.0   \n",
       "1                           62.7                      2.0   \n",
       "2                           66.4                     17.0   \n",
       "\n",
       "   Intervention Average Lift Rate  Intervention Average Max Forward Bend  \\\n",
       "0                           131.7                                   75.7   \n",
       "1                           142.3                                   90.4   \n",
       "2                           124.1                                   69.7   \n",
       "\n",
       "   Intervention Average Max Tilt Velocity  \\\n",
       "0                                    76.7   \n",
       "1                                    88.3   \n",
       "2                                    76.3   \n",
       "\n",
       "   Intervention Average Twist Velocity  Intervention Average Safety Score  \n",
       "0                                 23.4                               67.7  \n",
       "1                                 24.9                               60.2  \n",
       "2                                 20.8                               70.2  "
      ]
     },
     "execution_count": 166,
     "metadata": {},
     "output_type": "execute_result"
    }
   ],
   "source": [
    "df_load.head(3)"
   ]
  },
  {
   "cell_type": "code",
   "execution_count": 167,
   "metadata": {},
   "outputs": [
    {
     "name": "stdout",
     "output_type": "stream",
     "text": [
      "<class 'pandas.core.frame.DataFrame'>\n",
      "RangeIndex: 268 entries, 0 to 267\n",
      "Data columns (total 16 columns):\n",
      " #   Column                                  Non-Null Count  Dtype  \n",
      "---  ------                                  --------------  -----  \n",
      " 0   Warehouse                               267 non-null    object \n",
      " 1   Job Function                            267 non-null    object \n",
      " 2   ID                                      267 non-null    object \n",
      " 3   Haptic Group                            267 non-null    object \n",
      " 4   Baseline File Count                     250 non-null    float64\n",
      " 5   Baseline Average Lift Rate              250 non-null    float64\n",
      " 6   Baseline Average Max Forward Bend       250 non-null    float64\n",
      " 7   Baseline Average Max Tilt Velocity      250 non-null    float64\n",
      " 8   Baseline Average Twist Velocity         250 non-null    float64\n",
      " 9   Baseline Average Safety Score           250 non-null    float64\n",
      " 10  Intervention File Count                 226 non-null    float64\n",
      " 11  Intervention Average Lift Rate          226 non-null    float64\n",
      " 12  Intervention Average Max Forward Bend   226 non-null    float64\n",
      " 13  Intervention Average Max Tilt Velocity  226 non-null    float64\n",
      " 14  Intervention Average Twist Velocity     226 non-null    float64\n",
      " 15  Intervention Average Safety Score       226 non-null    float64\n",
      "dtypes: float64(12), object(4)\n",
      "memory usage: 33.6+ KB\n"
     ]
    }
   ],
   "source": [
    "df_load.info()"
   ]
  },
  {
   "cell_type": "markdown",
   "metadata": {},
   "source": [
    "### Since the missing values are not too much, we will drop all the missing values."
   ]
  },
  {
   "cell_type": "code",
   "execution_count": 168,
   "metadata": {
    "scrolled": false
   },
   "outputs": [
    {
     "name": "stdout",
     "output_type": "stream",
     "text": [
      "<class 'pandas.core.frame.DataFrame'>\n",
      "Int64Index: 209 entries, 0 to 249\n",
      "Data columns (total 16 columns):\n",
      " #   Column                                  Non-Null Count  Dtype  \n",
      "---  ------                                  --------------  -----  \n",
      " 0   Warehouse                               209 non-null    object \n",
      " 1   Job Function                            209 non-null    object \n",
      " 2   ID                                      209 non-null    object \n",
      " 3   Haptic Group                            209 non-null    object \n",
      " 4   Baseline File Count                     209 non-null    float64\n",
      " 5   Baseline Average Lift Rate              209 non-null    float64\n",
      " 6   Baseline Average Max Forward Bend       209 non-null    float64\n",
      " 7   Baseline Average Max Tilt Velocity      209 non-null    float64\n",
      " 8   Baseline Average Twist Velocity         209 non-null    float64\n",
      " 9   Baseline Average Safety Score           209 non-null    float64\n",
      " 10  Intervention File Count                 209 non-null    float64\n",
      " 11  Intervention Average Lift Rate          209 non-null    float64\n",
      " 12  Intervention Average Max Forward Bend   209 non-null    float64\n",
      " 13  Intervention Average Max Tilt Velocity  209 non-null    float64\n",
      " 14  Intervention Average Twist Velocity     209 non-null    float64\n",
      " 15  Intervention Average Safety Score       209 non-null    float64\n",
      "dtypes: float64(12), object(4)\n",
      "memory usage: 27.8+ KB\n"
     ]
    }
   ],
   "source": [
    "df_load.dropna(inplace=True)\n",
    "df_load.info()"
   ]
  },
  {
   "cell_type": "code",
   "execution_count": 169,
   "metadata": {},
   "outputs": [
    {
     "data": {
      "text/plain": [
       "0"
      ]
     },
     "execution_count": 169,
     "metadata": {},
     "output_type": "execute_result"
    }
   ],
   "source": [
    "df_load.duplicated('ID').sum()"
   ]
  },
  {
   "cell_type": "markdown",
   "metadata": {},
   "source": [
    "### No duplicated IDs."
   ]
  },
  {
   "cell_type": "code",
   "execution_count": 170,
   "metadata": {},
   "outputs": [
    {
     "data": {
      "text/plain": [
       "Warehouse  Job Function     Haptic Group                               \n",
       "Albany     Package Handler  2 bends in 5 minute window over 65 degrees     76\n",
       "                            3 bends in 8 minute window over 65 degrees     69\n",
       "                            2 bends in 10 minute window over 65 degrees    64\n",
       "dtype: int64"
      ]
     },
     "execution_count": 170,
     "metadata": {},
     "output_type": "execute_result"
    }
   ],
   "source": [
    "df_load.value_counts(subset=['Warehouse','Job Function','Haptic Group'])"
   ]
  },
  {
   "cell_type": "markdown",
   "metadata": {},
   "source": [
    "### We will not take into consider of warehouse and job function since both of them have only 1 unique value. For instance, we will focus on 3 differenct haptic groups."
   ]
  },
  {
   "cell_type": "markdown",
   "metadata": {},
   "source": [
    "### Boxplot for detecting outliers, seperated by baseline and intervention."
   ]
  },
  {
   "cell_type": "code",
   "execution_count": 171,
   "metadata": {
    "scrolled": false
   },
   "outputs": [
    {
     "data": {
      "text/plain": [
       "<AxesSubplot:>"
      ]
     },
     "execution_count": 171,
     "metadata": {},
     "output_type": "execute_result"
    },
    {
     "data": {
      "image/png": "[encoded data removed]",
      "text/plain": [
       "<Figure size 1080x432 with 1 Axes>"
      ]
     },
     "metadata": {
      "needs_background": "light"
     },
     "output_type": "display_data"
    }
   ],
   "source": [
    "fig = plt.figure(figsize=(15,6))\n",
    "fig.suptitle('Baseline Value Boxplot for outlier')\n",
    "column_baseline=['Baseline Average Lift Rate','Baseline Average Max Forward Bend','Baseline Average Max Tilt Velocity','Baseline Average Twist Velocity']\n",
    "df_load.boxplot(column=column_baseline)"
   ]
  },
  {
   "cell_type": "code",
   "execution_count": 172,
   "metadata": {
    "scrolled": false
   },
   "outputs": [
    {
     "data": {
      "text/plain": [
       "<AxesSubplot:>"
      ]
     },
     "execution_count": 172,
     "metadata": {},
     "output_type": "execute_result"
    },
    {
     "data": {
      "image/png": "[encoded data removed]",
      "text/plain": [
       "<Figure size 1080x432 with 1 Axes>"
      ]
     },
     "metadata": {
      "needs_background": "light"
     },
     "output_type": "display_data"
    }
   ],
   "source": [
    "fig = plt.figure(figsize=(15,6))\n",
    "fig.suptitle('Intervention Value Boxplot for outlier')\n",
    "column_intervention=['Intervention Average Lift Rate','Intervention Average Max Forward Bend','Intervention Average Max Tilt Velocity','Intervention Average Twist Velocity']\n",
    "df_load.boxplot(column=column_intervention)"
   ]
  },
  {
   "cell_type": "markdown",
   "metadata": {},
   "source": [
    "### There are few outliers but still possible values considering the real world meaning of those data, so we will keep them."
   ]
  },
  {
   "cell_type": "markdown",
   "metadata": {},
   "source": [
    "### Since we will compare the values between baseline and intervention to test the effectiveness of the equipment, we will devide the dataset into 2 tables. "
   ]
  },
  {
   "cell_type": "code",
   "execution_count": 173,
   "metadata": {},
   "outputs": [
    {
     "data": {
      "text/html": [
       "<div>\n",
       "<style scoped>\n",
       "    .dataframe tbody tr th:only-of-type {\n",
       "        vertical-align: middle;\n",
       "    }\n",
       "\n",
       "    .dataframe tbody tr th {\n",
       "        vertical-align: top;\n",
       "    }\n",
       "\n",
       "    .dataframe thead th {\n",
       "        text-align: right;\n",
       "    }\n",
       "</style>\n",
       "<table border=\"1\" class=\"dataframe\">\n",
       "  <thead>\n",
       "    <tr style=\"text-align: right;\">\n",
       "      <th></th>\n",
       "      <th>Haptic Group</th>\n",
       "      <th>Baseline File Count</th>\n",
       "      <th>Baseline Average Lift Rate</th>\n",
       "      <th>Baseline Average Max Forward Bend</th>\n",
       "      <th>Baseline Average Max Tilt Velocity</th>\n",
       "      <th>Baseline Average Twist Velocity</th>\n",
       "      <th>Baseline Average Safety Score</th>\n",
       "    </tr>\n",
       "  </thead>\n",
       "  <tbody>\n",
       "    <tr>\n",
       "      <th>0</th>\n",
       "      <td>3 bends in 8 minute window over 65 degrees</td>\n",
       "      <td>19.0</td>\n",
       "      <td>155.7</td>\n",
       "      <td>93.1</td>\n",
       "      <td>88.8</td>\n",
       "      <td>23.2</td>\n",
       "      <td>59.7</td>\n",
       "    </tr>\n",
       "    <tr>\n",
       "      <th>1</th>\n",
       "      <td>2 bends in 5 minute window over 65 degrees</td>\n",
       "      <td>7.0</td>\n",
       "      <td>153.8</td>\n",
       "      <td>97.6</td>\n",
       "      <td>76.1</td>\n",
       "      <td>24.5</td>\n",
       "      <td>62.7</td>\n",
       "    </tr>\n",
       "    <tr>\n",
       "      <th>2</th>\n",
       "      <td>2 bends in 10 minute window over 65 degrees</td>\n",
       "      <td>16.0</td>\n",
       "      <td>145.6</td>\n",
       "      <td>86.9</td>\n",
       "      <td>76.7</td>\n",
       "      <td>21.0</td>\n",
       "      <td>66.4</td>\n",
       "    </tr>\n",
       "    <tr>\n",
       "      <th>4</th>\n",
       "      <td>2 bends in 5 minute window over 65 degrees</td>\n",
       "      <td>9.0</td>\n",
       "      <td>145.1</td>\n",
       "      <td>105.0</td>\n",
       "      <td>86.1</td>\n",
       "      <td>23.2</td>\n",
       "      <td>58.6</td>\n",
       "    </tr>\n",
       "    <tr>\n",
       "      <th>6</th>\n",
       "      <td>2 bends in 5 minute window over 65 degrees</td>\n",
       "      <td>5.0</td>\n",
       "      <td>142.4</td>\n",
       "      <td>89.6</td>\n",
       "      <td>89.9</td>\n",
       "      <td>23.6</td>\n",
       "      <td>60.6</td>\n",
       "    </tr>\n",
       "    <tr>\n",
       "      <th>...</th>\n",
       "      <td>...</td>\n",
       "      <td>...</td>\n",
       "      <td>...</td>\n",
       "      <td>...</td>\n",
       "      <td>...</td>\n",
       "      <td>...</td>\n",
       "      <td>...</td>\n",
       "    </tr>\n",
       "    <tr>\n",
       "      <th>242</th>\n",
       "      <td>3 bends in 8 minute window over 65 degrees</td>\n",
       "      <td>24.0</td>\n",
       "      <td>39.8</td>\n",
       "      <td>89.5</td>\n",
       "      <td>70.6</td>\n",
       "      <td>14.7</td>\n",
       "      <td>73.8</td>\n",
       "    </tr>\n",
       "    <tr>\n",
       "      <th>243</th>\n",
       "      <td>2 bends in 5 minute window over 65 degrees</td>\n",
       "      <td>15.0</td>\n",
       "      <td>39.2</td>\n",
       "      <td>72.5</td>\n",
       "      <td>80.4</td>\n",
       "      <td>13.7</td>\n",
       "      <td>73.7</td>\n",
       "    </tr>\n",
       "    <tr>\n",
       "      <th>244</th>\n",
       "      <td>2 bends in 10 minute window over 65 degrees</td>\n",
       "      <td>17.0</td>\n",
       "      <td>35.6</td>\n",
       "      <td>78.3</td>\n",
       "      <td>73.7</td>\n",
       "      <td>12.1</td>\n",
       "      <td>75.4</td>\n",
       "    </tr>\n",
       "    <tr>\n",
       "      <th>247</th>\n",
       "      <td>2 bends in 5 minute window over 65 degrees</td>\n",
       "      <td>18.0</td>\n",
       "      <td>20.4</td>\n",
       "      <td>60.8</td>\n",
       "      <td>62.8</td>\n",
       "      <td>12.4</td>\n",
       "      <td>80.5</td>\n",
       "    </tr>\n",
       "    <tr>\n",
       "      <th>249</th>\n",
       "      <td>2 bends in 5 minute window over 65 degrees</td>\n",
       "      <td>18.0</td>\n",
       "      <td>15.7</td>\n",
       "      <td>68.0</td>\n",
       "      <td>63.3</td>\n",
       "      <td>11.1</td>\n",
       "      <td>80.4</td>\n",
       "    </tr>\n",
       "  </tbody>\n",
       "</table>\n",
       "<p>209 rows × 7 columns</p>\n",
       "</div>"
      ],
      "text/plain": [
       "                                    Haptic Group  Baseline File Count  \\\n",
       "0     3 bends in 8 minute window over 65 degrees                 19.0   \n",
       "1     2 bends in 5 minute window over 65 degrees                  7.0   \n",
       "2    2 bends in 10 minute window over 65 degrees                 16.0   \n",
       "4     2 bends in 5 minute window over 65 degrees                  9.0   \n",
       "6     2 bends in 5 minute window over 65 degrees                  5.0   \n",
       "..                                           ...                  ...   \n",
       "242   3 bends in 8 minute window over 65 degrees                 24.0   \n",
       "243   2 bends in 5 minute window over 65 degrees                 15.0   \n",
       "244  2 bends in 10 minute window over 65 degrees                 17.0   \n",
       "247   2 bends in 5 minute window over 65 degrees                 18.0   \n",
       "249   2 bends in 5 minute window over 65 degrees                 18.0   \n",
       "\n",
       "     Baseline Average Lift Rate  Baseline Average Max Forward Bend  \\\n",
       "0                         155.7                               93.1   \n",
       "1                         153.8                               97.6   \n",
       "2                         145.6                               86.9   \n",
       "4                         145.1                              105.0   \n",
       "6                         142.4                               89.6   \n",
       "..                          ...                                ...   \n",
       "242                        39.8                               89.5   \n",
       "243                        39.2                               72.5   \n",
       "244                        35.6                               78.3   \n",
       "247                        20.4                               60.8   \n",
       "249                        15.7                               68.0   \n",
       "\n",
       "     Baseline Average Max Tilt Velocity  Baseline Average Twist Velocity  \\\n",
       "0                                  88.8                             23.2   \n",
       "1                                  76.1                             24.5   \n",
       "2                                  76.7                             21.0   \n",
       "4                                  86.1                             23.2   \n",
       "6                                  89.9                             23.6   \n",
       "..                                  ...                              ...   \n",
       "242                                70.6                             14.7   \n",
       "243                                80.4                             13.7   \n",
       "244                                73.7                             12.1   \n",
       "247                                62.8                             12.4   \n",
       "249                                63.3                             11.1   \n",
       "\n",
       "     Baseline Average Safety Score  \n",
       "0                             59.7  \n",
       "1                             62.7  \n",
       "2                             66.4  \n",
       "4                             58.6  \n",
       "6                             60.6  \n",
       "..                             ...  \n",
       "242                           73.8  \n",
       "243                           73.7  \n",
       "244                           75.4  \n",
       "247                           80.5  \n",
       "249                           80.4  \n",
       "\n",
       "[209 rows x 7 columns]"
      ]
     },
     "execution_count": 173,
     "metadata": {},
     "output_type": "execute_result"
    }
   ],
   "source": [
    "#split for baseline\n",
    "df_b = df_load[['Haptic Group', 'Baseline File Count', 'Baseline Average Lift Rate','Baseline Average Max Forward Bend','Baseline Average Max Tilt Velocity','Baseline Average Twist Velocity', 'Baseline Average Safety Score']]\n",
    "df_b"
   ]
  },
  {
   "cell_type": "code",
   "execution_count": 174,
   "metadata": {},
   "outputs": [
    {
     "data": {
      "text/html": [
       "<div>\n",
       "<style scoped>\n",
       "    .dataframe tbody tr th:only-of-type {\n",
       "        vertical-align: middle;\n",
       "    }\n",
       "\n",
       "    .dataframe tbody tr th {\n",
       "        vertical-align: top;\n",
       "    }\n",
       "\n",
       "    .dataframe thead th {\n",
       "        text-align: right;\n",
       "    }\n",
       "</style>\n",
       "<table border=\"1\" class=\"dataframe\">\n",
       "  <thead>\n",
       "    <tr style=\"text-align: right;\">\n",
       "      <th></th>\n",
       "      <th>Haptic Group</th>\n",
       "      <th>Intervention File Count</th>\n",
       "      <th>Intervention Average Lift Rate</th>\n",
       "      <th>Intervention Average Max Forward Bend</th>\n",
       "      <th>Intervention Average Max Tilt Velocity</th>\n",
       "      <th>Intervention Average Twist Velocity</th>\n",
       "      <th>Intervention Average Safety Score</th>\n",
       "    </tr>\n",
       "  </thead>\n",
       "  <tbody>\n",
       "    <tr>\n",
       "      <th>0</th>\n",
       "      <td>3 bends in 8 minute window over 65 degrees</td>\n",
       "      <td>13.0</td>\n",
       "      <td>131.7</td>\n",
       "      <td>75.7</td>\n",
       "      <td>76.7</td>\n",
       "      <td>23.4</td>\n",
       "      <td>67.7</td>\n",
       "    </tr>\n",
       "    <tr>\n",
       "      <th>1</th>\n",
       "      <td>2 bends in 5 minute window over 65 degrees</td>\n",
       "      <td>2.0</td>\n",
       "      <td>142.3</td>\n",
       "      <td>90.4</td>\n",
       "      <td>88.3</td>\n",
       "      <td>24.9</td>\n",
       "      <td>60.2</td>\n",
       "    </tr>\n",
       "    <tr>\n",
       "      <th>2</th>\n",
       "      <td>2 bends in 10 minute window over 65 degrees</td>\n",
       "      <td>17.0</td>\n",
       "      <td>124.1</td>\n",
       "      <td>69.7</td>\n",
       "      <td>76.3</td>\n",
       "      <td>20.8</td>\n",
       "      <td>70.2</td>\n",
       "    </tr>\n",
       "    <tr>\n",
       "      <th>4</th>\n",
       "      <td>2 bends in 5 minute window over 65 degrees</td>\n",
       "      <td>16.0</td>\n",
       "      <td>131.4</td>\n",
       "      <td>104.0</td>\n",
       "      <td>89.9</td>\n",
       "      <td>23.7</td>\n",
       "      <td>58.1</td>\n",
       "    </tr>\n",
       "    <tr>\n",
       "      <th>6</th>\n",
       "      <td>2 bends in 5 minute window over 65 degrees</td>\n",
       "      <td>8.0</td>\n",
       "      <td>142.4</td>\n",
       "      <td>84.4</td>\n",
       "      <td>84.3</td>\n",
       "      <td>22.3</td>\n",
       "      <td>64.1</td>\n",
       "    </tr>\n",
       "    <tr>\n",
       "      <th>...</th>\n",
       "      <td>...</td>\n",
       "      <td>...</td>\n",
       "      <td>...</td>\n",
       "      <td>...</td>\n",
       "      <td>...</td>\n",
       "      <td>...</td>\n",
       "      <td>...</td>\n",
       "    </tr>\n",
       "    <tr>\n",
       "      <th>242</th>\n",
       "      <td>3 bends in 8 minute window over 65 degrees</td>\n",
       "      <td>19.0</td>\n",
       "      <td>48.1</td>\n",
       "      <td>83.8</td>\n",
       "      <td>76.1</td>\n",
       "      <td>16.2</td>\n",
       "      <td>72.3</td>\n",
       "    </tr>\n",
       "    <tr>\n",
       "      <th>243</th>\n",
       "      <td>2 bends in 5 minute window over 65 degrees</td>\n",
       "      <td>20.0</td>\n",
       "      <td>52.0</td>\n",
       "      <td>76.6</td>\n",
       "      <td>78.3</td>\n",
       "      <td>15.2</td>\n",
       "      <td>72.6</td>\n",
       "    </tr>\n",
       "    <tr>\n",
       "      <th>244</th>\n",
       "      <td>2 bends in 10 minute window over 65 degrees</td>\n",
       "      <td>17.0</td>\n",
       "      <td>46.2</td>\n",
       "      <td>68.7</td>\n",
       "      <td>64.3</td>\n",
       "      <td>12.8</td>\n",
       "      <td>78.9</td>\n",
       "    </tr>\n",
       "    <tr>\n",
       "      <th>247</th>\n",
       "      <td>2 bends in 5 minute window over 65 degrees</td>\n",
       "      <td>18.0</td>\n",
       "      <td>23.7</td>\n",
       "      <td>63.6</td>\n",
       "      <td>68.5</td>\n",
       "      <td>12.2</td>\n",
       "      <td>78.8</td>\n",
       "    </tr>\n",
       "    <tr>\n",
       "      <th>249</th>\n",
       "      <td>2 bends in 5 minute window over 65 degrees</td>\n",
       "      <td>1.0</td>\n",
       "      <td>25.8</td>\n",
       "      <td>64.1</td>\n",
       "      <td>47.0</td>\n",
       "      <td>11.1</td>\n",
       "      <td>84.4</td>\n",
       "    </tr>\n",
       "  </tbody>\n",
       "</table>\n",
       "<p>209 rows × 7 columns</p>\n",
       "</div>"
      ],
      "text/plain": [
       "                                    Haptic Group  Intervention File Count  \\\n",
       "0     3 bends in 8 minute window over 65 degrees                     13.0   \n",
       "1     2 bends in 5 minute window over 65 degrees                      2.0   \n",
       "2    2 bends in 10 minute window over 65 degrees                     17.0   \n",
       "4     2 bends in 5 minute window over 65 degrees                     16.0   \n",
       "6     2 bends in 5 minute window over 65 degrees                      8.0   \n",
       "..                                           ...                      ...   \n",
       "242   3 bends in 8 minute window over 65 degrees                     19.0   \n",
       "243   2 bends in 5 minute window over 65 degrees                     20.0   \n",
       "244  2 bends in 10 minute window over 65 degrees                     17.0   \n",
       "247   2 bends in 5 minute window over 65 degrees                     18.0   \n",
       "249   2 bends in 5 minute window over 65 degrees                      1.0   \n",
       "\n",
       "     Intervention Average Lift Rate  Intervention Average Max Forward Bend  \\\n",
       "0                             131.7                                   75.7   \n",
       "1                             142.3                                   90.4   \n",
       "2                             124.1                                   69.7   \n",
       "4                             131.4                                  104.0   \n",
       "6                             142.4                                   84.4   \n",
       "..                              ...                                    ...   \n",
       "242                            48.1                                   83.8   \n",
       "243                            52.0                                   76.6   \n",
       "244                            46.2                                   68.7   \n",
       "247                            23.7                                   63.6   \n",
       "249                            25.8                                   64.1   \n",
       "\n",
       "     Intervention Average Max Tilt Velocity  \\\n",
       "0                                      76.7   \n",
       "1                                      88.3   \n",
       "2                                      76.3   \n",
       "4                                      89.9   \n",
       "6                                      84.3   \n",
       "..                                      ...   \n",
       "242                                    76.1   \n",
       "243                                    78.3   \n",
       "244                                    64.3   \n",
       "247                                    68.5   \n",
       "249                                    47.0   \n",
       "\n",
       "     Intervention Average Twist Velocity  Intervention Average Safety Score  \n",
       "0                                   23.4                               67.7  \n",
       "1                                   24.9                               60.2  \n",
       "2                                   20.8                               70.2  \n",
       "4                                   23.7                               58.1  \n",
       "6                                   22.3                               64.1  \n",
       "..                                   ...                                ...  \n",
       "242                                 16.2                               72.3  \n",
       "243                                 15.2                               72.6  \n",
       "244                                 12.8                               78.9  \n",
       "247                                 12.2                               78.8  \n",
       "249                                 11.1                               84.4  \n",
       "\n",
       "[209 rows x 7 columns]"
      ]
     },
     "execution_count": 174,
     "metadata": {},
     "output_type": "execute_result"
    }
   ],
   "source": [
    "#split for intervention\n",
    "df_i = df_load[['Haptic Group', 'Intervention File Count', 'Intervention Average Lift Rate','Intervention Average Max Forward Bend','Intervention Average Max Tilt Velocity','Intervention Average Twist Velocity', 'Intervention Average Safety Score']]\n",
    "df_i"
   ]
  },
  {
   "cell_type": "code",
   "execution_count": 175,
   "metadata": {},
   "outputs": [],
   "source": [
    "def weighted_average_m1(distribution, weights):\n",
    "    return round(sum([distribution[i]*weights[i] for i in range(len(distribution))])/sum(weights),2)"
   ]
  },
  {
   "cell_type": "code",
   "execution_count": 176,
   "metadata": {},
   "outputs": [
    {
     "name": "stdout",
     "output_type": "stream",
     "text": [
      "Baseline Average Lift Rate: 103.05\n",
      "Baseline Average Max Forward Bend: 85.17\n",
      "Baseline Average Max Tilt Velocity: 79.31\n",
      "Baseline Average Twist Velocity: 20.2\n",
      "Baseline Average Safety Score: 67.29\n"
     ]
    }
   ],
   "source": [
    "# weighted average for baseline numbers\n",
    "comparables = ('Average Lift Rate', 'Average Max Forward Bend', 'Average Max Tilt Velocity', 'Average Twist Velocity', 'Average Safety Score')\n",
    "\n",
    "for i in comparables:\n",
    "    print('Baseline ' + i + ':', weighted_average_m1(np.array(df_b['Baseline ' + i]), np.array(df_b['Baseline File Count'])))"
   ]
  },
  {
   "cell_type": "code",
   "execution_count": 177,
   "metadata": {},
   "outputs": [
    {
     "name": "stdout",
     "output_type": "stream",
     "text": [
      "Intervention Average Lift Rate: 94.65\n",
      "Intervention Average Max Forward Bend: 77.5\n",
      "Intervention Average Max Tilt Velocity: 79.49\n",
      "Intervention Average Twist Velocity: 20.38\n",
      "Intervention Average Safety Score: 68.61\n"
     ]
    }
   ],
   "source": [
    "# weighted average for intervention numbers\n",
    "for i in comparables:\n",
    "    print('Intervention ' + i + ':', weighted_average_m1(np.array(df_i['Intervention ' + i]), np.array(df_i['Intervention File Count'])))"
   ]
  },
  {
   "cell_type": "markdown",
   "metadata": {},
   "source": [
    "### Calculate the T-test for the means of two independent samples."
   ]
  },
  {
   "cell_type": "code",
   "execution_count": 178,
   "metadata": {},
   "outputs": [
    {
     "name": "stdout",
     "output_type": "stream",
     "text": [
      "Average Lift Rate: Ttest_indResult(statistic=3.413393861224649, pvalue=0.0007046780575591738)\n",
      "Average Max Forward Bend: Ttest_indResult(statistic=7.522621170172727, pvalue=3.616060233552768e-13)\n",
      "Average Max Tilt Velocity: Ttest_indResult(statistic=0.22499021714140902, pvalue=0.8221039191114687)\n",
      "Average Twist Velocity: Ttest_indResult(statistic=-1.1068836189210227, pvalue=0.2689889669540211)\n",
      "Average Safety Score: Ttest_indResult(statistic=-2.4795464377452077, pvalue=0.013560616272913122)\n"
     ]
    }
   ],
   "source": [
    "comparables = ('Average Lift Rate', 'Average Max Forward Bend', 'Average Max Tilt Velocity', 'Average Twist Velocity', 'Average Safety Score')\n",
    "\n",
    "for i in comparables:\n",
    "    print(i+':', stats.ttest_ind(df_b['Baseline ' + i], df_i['Intervention ' + i], equal_var=False))"
   ]
  },
  {
   "cell_type": "markdown",
   "metadata": {},
   "source": [
    "### Results: \n",
    "* in general, without considering the different haptic groups, we can reject the hypothesis that there is no significant difference/improvement between the baseline average figures and the intervention average figures EXCEPT the average max tilt velocity and average twist velocity, which mean there are significant difference/improvement using the equipment for average lift rate, average max forward bend, and average safety score."
   ]
  },
  {
   "cell_type": "markdown",
   "metadata": {},
   "source": [
    "### Split  by haptic groups"
   ]
  },
  {
   "cell_type": "code",
   "execution_count": 179,
   "metadata": {},
   "outputs": [],
   "source": [
    "# split the dataset by haptic groups\n",
    "df_b_3b8m = df_b[df_b['Haptic Group'] == '3 bends in 8 minute window over 65 degrees']\n",
    "df_b_2b5m = df_b[df_b['Haptic Group'] == '2 bends in 5 minute window over 65 degrees']\n",
    "df_b_2b10m = df_b[df_b['Haptic Group'] == '2 bends in 10 minute window over 65 degrees']\n",
    "df_i_3b8m = df_i[df_i['Haptic Group'] == '3 bends in 8 minute window over 65 degrees']\n",
    "df_i_2b5m = df_i[df_i['Haptic Group'] == '2 bends in 5 minute window over 65 degrees']\n",
    "df_i_2b10m = df_i[df_i['Haptic Group'] == '2 bends in 10 minute window over 65 degrees']"
   ]
  },
  {
   "cell_type": "code",
   "execution_count": 180,
   "metadata": {},
   "outputs": [
    {
     "data": {
      "text/plain": [
       "array([[<AxesSubplot:title={'center':'Baseline Average Safety Score'}>]],\n",
       "      dtype=object)"
      ]
     },
     "execution_count": 180,
     "metadata": {},
     "output_type": "execute_result"
    },
    {
     "data": {
      "text/plain": [
       "<Figure size 1080x432 with 0 Axes>"
      ]
     },
     "metadata": {},
     "output_type": "display_data"
    },
    {
     "data": {
      "image/png": "[encoded data removed]",
      "text/plain": [
       "<Figure size 432x288 with 4 Axes>"
      ]
     },
     "metadata": {
      "needs_background": "light"
     },
     "output_type": "display_data"
    },
    {
     "data": {
      "image/png": "[encoded data removed]",
      "text/plain": [
       "<Figure size 432x288 with 1 Axes>"
      ]
     },
     "metadata": {
      "needs_background": "light"
     },
     "output_type": "display_data"
    }
   ],
   "source": [
    "#distribution check for normal distribution\n",
    "columns = ['Baseline Average Lift Rate', 'Baseline Average Max Forward Bend', 'Baseline Average Max Tilt Velocity', 'Baseline Average Twist Velocity']\n",
    "fig = plt.figure(figsize=(15,6))\n",
    "df_b_3b8m.hist(column=columns)\n",
    "df_b_3b8m.hist(column='Baseline Average Safety Score')"
   ]
  },
  {
   "cell_type": "code",
   "execution_count": 181,
   "metadata": {},
   "outputs": [
    {
     "name": "stdout",
     "output_type": "stream",
     "text": [
      "3 bends in 8 minute Average Lift Rate: Ttest_indResult(statistic=2.3026718176636956, pvalue=0.022817632515134974)\n",
      "3 bends in 8 minute Average Max Forward Bend: Ttest_indResult(statistic=3.333283881604222, pvalue=0.0011182311491423735)\n",
      "3 bends in 8 minute Average Max Tilt Velocity: Ttest_indResult(statistic=-0.577112655064434, pvalue=0.5648551889614366)\n",
      "3 bends in 8 minute Average Twist Velocity: Ttest_indResult(statistic=-0.7900914293365363, pvalue=0.4308498540424649)\n",
      "3 bends in 8 minute Average Safety Score: Ttest_indResult(statistic=-0.7206139257715112, pvalue=0.4724041582779932)\n"
     ]
    }
   ],
   "source": [
    "# t-test for 3 bends in 8 minute\n",
    "for i in comparables:\n",
    "    print('3 bends in 8 minute ' + i +':', stats.ttest_ind(df_b_3b8m['Baseline ' + i], df_i_3b8m['Intervention ' + i], equal_var=False))"
   ]
  },
  {
   "cell_type": "code",
   "execution_count": 182,
   "metadata": {},
   "outputs": [
    {
     "name": "stdout",
     "output_type": "stream",
     "text": [
      "2 bends in 5 minute Average Lift Rate: Ttest_indResult(statistic=2.2781765195079275, pvalue=0.024129138239124107)\n",
      "2 bends in 5 minute Average Max Forward Bend: Ttest_indResult(statistic=4.785696625785754, pvalue=4.079206764958485e-06)\n",
      "2 bends in 5 minute Average Max Tilt Velocity: Ttest_indResult(statistic=0.6990147093898585, pvalue=0.48569590303097454)\n",
      "2 bends in 5 minute Average Twist Velocity: Ttest_indResult(statistic=0.2362008499986128, pvalue=0.8136003682012831)\n",
      "2 bends in 5 minute Average Safety Score: Ttest_indResult(statistic=-2.1760484239124165, pvalue=0.0311575698118349)\n"
     ]
    }
   ],
   "source": [
    "# t-test for 2 bends in 5 minute\n",
    "for i in comparables:\n",
    "    print('2 bends in 5 minute ' + i +':', stats.ttest_ind(df_b_2b5m['Baseline ' + i], df_i_2b5m['Intervention ' + i], equal_var=False))"
   ]
  },
  {
   "cell_type": "code",
   "execution_count": 183,
   "metadata": {},
   "outputs": [
    {
     "name": "stdout",
     "output_type": "stream",
     "text": [
      "2 bends in 10 minute Average Lift Rate: Ttest_indResult(statistic=1.3016086323129188, pvalue=0.1954491693793261)\n",
      "2 bends in 10 minute Average Max Forward Bend: Ttest_indResult(statistic=5.145190961330269, pvalue=1.1983295140989514e-06)\n",
      "2 bends in 10 minute Average Max Tilt Velocity: Ttest_indResult(statistic=0.20289029319427182, pvalue=0.8395771350787209)\n",
      "2 bends in 10 minute Average Twist Velocity: Ttest_indResult(statistic=-1.4314083558973258, pvalue=0.15488417451574138)\n",
      "2 bends in 10 minute Average Safety Score: Ttest_indResult(statistic=-1.342895526383417, pvalue=0.18185007319124324)\n"
     ]
    }
   ],
   "source": [
    "# t-test for 2 bends in 10 minute\n",
    "for i in comparables:\n",
    "    print('2 bends in 10 minute ' + i +':', stats.ttest_ind(df_b_2b10m['Baseline ' + i], df_i_2b10m['Intervention ' + i], equal_var=False))"
   ]
  },
  {
   "cell_type": "code",
   "execution_count": 184,
   "metadata": {},
   "outputs": [
    {
     "data": {
      "text/plain": [
       "[105.67, 84.95, 78.36, 20.65, 67.31]"
      ]
     },
     "execution_count": 184,
     "metadata": {},
     "output_type": "execute_result"
    }
   ],
   "source": [
    "#weighted average for baseline 3 bends in 8 minute\n",
    "df_b_3b8m_weighted_avg =[]\n",
    "for i in comparables:\n",
    "    df_b_3b8m_weighted_avg.append(weighted_average_m1(np.array(df_b_3b8m['Baseline ' + i]), np.array(df_b_3b8m['Baseline File Count'])))\n",
    "df_b_3b8m_weighted_avg"
   ]
  },
  {
   "cell_type": "code",
   "execution_count": 185,
   "metadata": {},
   "outputs": [
    {
     "data": {
      "text/plain": [
       "[98.06, 78.25, 79.72, 20.96, 68.04]"
      ]
     },
     "execution_count": 185,
     "metadata": {},
     "output_type": "execute_result"
    }
   ],
   "source": [
    "#weighted average for intervention 3 bends in 8 minute\n",
    "df_i_3b8m_weighted_avg =[]\n",
    "for i in comparables:\n",
    "    df_i_3b8m_weighted_avg.append(weighted_average_m1(np.array(df_i_3b8m['Intervention ' + i]), np.array(df_i_3b8m['Intervention File Count'])))\n",
    "df_i_3b8m_weighted_avg"
   ]
  },
  {
   "cell_type": "code",
   "execution_count": 186,
   "metadata": {},
   "outputs": [
    {
     "data": {
      "text/plain": [
       "[101.35, 85.96, 81.03, 20.1, 66.69]"
      ]
     },
     "execution_count": 186,
     "metadata": {},
     "output_type": "execute_result"
    }
   ],
   "source": [
    "#weighted average for baseline 2 bends in 5 minute\n",
    "df_b_2b5m_weighted_avg =[]\n",
    "for i in comparables:\n",
    "    df_b_2b5m_weighted_avg.append(weighted_average_m1(np.array(df_b_2b5m['Baseline ' + i]), np.array(df_b_2b5m['Baseline File Count'])))\n",
    "df_b_2b5m_weighted_avg"
   ]
  },
  {
   "cell_type": "code",
   "execution_count": 187,
   "metadata": {},
   "outputs": [
    {
     "data": {
      "text/plain": [
       "[93.22, 78.17, 80.76, 20.24, 68.24]"
      ]
     },
     "execution_count": 187,
     "metadata": {},
     "output_type": "execute_result"
    }
   ],
   "source": [
    "#weighted average for intervention 2 bends in 5 minute\n",
    "df_i_2b5m_weighted_avg =[]\n",
    "for i in comparables:\n",
    "    df_i_2b5m_weighted_avg.append(weighted_average_m1(np.array(df_i_2b5m['Intervention ' + i]), np.array(df_i_2b5m['Intervention File Count'])))\n",
    "df_i_2b5m_weighted_avg"
   ]
  },
  {
   "cell_type": "code",
   "execution_count": 188,
   "metadata": {},
   "outputs": [
    {
     "data": {
      "text/plain": [
       "[102.2, 84.33, 78.06, 19.78, 68.1]"
      ]
     },
     "execution_count": 188,
     "metadata": {},
     "output_type": "execute_result"
    }
   ],
   "source": [
    "#weighted average for baseline 2 bends in 10 minute\n",
    "df_b_2b10m_weighted_avg =[]\n",
    "for i in comparables:\n",
    "    df_b_2b10m_weighted_avg.append(weighted_average_m1(np.array(df_b_2b10m['Baseline ' + i]), np.array(df_b_2b10m['Baseline File Count'])))\n",
    "df_b_2b10m_weighted_avg"
   ]
  },
  {
   "cell_type": "code",
   "execution_count": 189,
   "metadata": {},
   "outputs": [
    {
     "data": {
      "text/plain": [
       "[92.49, 75.6, 77.35, 19.87, 69.85]"
      ]
     },
     "execution_count": 189,
     "metadata": {},
     "output_type": "execute_result"
    }
   ],
   "source": [
    "#weighted average for intervention 2 bends in 10 minute\n",
    "df_i_2b10m_weighted_avg =[]\n",
    "for i in comparables:\n",
    "    df_i_2b10m_weighted_avg.append(weighted_average_m1(np.array(df_i_2b10m['Intervention ' + i]), np.array(df_i_2b10m['Intervention File Count'])))\n",
    "df_i_2b10m_weighted_avg"
   ]
  },
  {
   "cell_type": "code",
   "execution_count": 190,
   "metadata": {},
   "outputs": [],
   "source": [
    "#difference/improve by haptic groups\n",
    "_3b8m_improve = (np.array(df_b_3b8m_weighted_avg) - np.array(df_i_3b8m_weighted_avg)) / np.array(df_b_3b8m_weighted_avg)\n",
    "_2b5m_improve = (np.array(df_b_2b5m_weighted_avg) - np.array(df_i_2b5m_weighted_avg)) / np.array(df_b_2b5m_weighted_avg)\n",
    "_2b10m_improve = (np.array(df_b_2b10m_weighted_avg) - np.array(df_i_2b10m_weighted_avg)) / np.array(df_b_2b10m_weighted_avg)"
   ]
  },
  {
   "cell_type": "code",
   "execution_count": 191,
   "metadata": {},
   "outputs": [
    {
     "data": {
      "text/html": [
       "<div>\n",
       "<style scoped>\n",
       "    .dataframe tbody tr th:only-of-type {\n",
       "        vertical-align: middle;\n",
       "    }\n",
       "\n",
       "    .dataframe tbody tr th {\n",
       "        vertical-align: top;\n",
       "    }\n",
       "\n",
       "    .dataframe thead th {\n",
       "        text-align: right;\n",
       "    }\n",
       "</style>\n",
       "<table border=\"1\" class=\"dataframe\">\n",
       "  <thead>\n",
       "    <tr style=\"text-align: right;\">\n",
       "      <th></th>\n",
       "      <th>Group</th>\n",
       "      <th>Baseline_3b8m</th>\n",
       "      <th>Intervention_3b8m</th>\n",
       "      <th>Improve_3b8m</th>\n",
       "      <th>Significant</th>\n",
       "    </tr>\n",
       "  </thead>\n",
       "  <tbody>\n",
       "    <tr>\n",
       "      <th>0</th>\n",
       "      <td>Average Lift Rate</td>\n",
       "      <td>105.67</td>\n",
       "      <td>98.06</td>\n",
       "      <td>0.072017</td>\n",
       "      <td>Yes</td>\n",
       "    </tr>\n",
       "    <tr>\n",
       "      <th>1</th>\n",
       "      <td>Average Max Forward Bend</td>\n",
       "      <td>84.95</td>\n",
       "      <td>78.25</td>\n",
       "      <td>0.078870</td>\n",
       "      <td>Yes</td>\n",
       "    </tr>\n",
       "    <tr>\n",
       "      <th>2</th>\n",
       "      <td>Average Max Tilt Velocity</td>\n",
       "      <td>78.36</td>\n",
       "      <td>79.72</td>\n",
       "      <td>-0.017356</td>\n",
       "      <td>No</td>\n",
       "    </tr>\n",
       "    <tr>\n",
       "      <th>3</th>\n",
       "      <td>Average Twist Velocity</td>\n",
       "      <td>20.65</td>\n",
       "      <td>20.96</td>\n",
       "      <td>-0.015012</td>\n",
       "      <td>No</td>\n",
       "    </tr>\n",
       "    <tr>\n",
       "      <th>4</th>\n",
       "      <td>Average Safety Score</td>\n",
       "      <td>67.31</td>\n",
       "      <td>68.04</td>\n",
       "      <td>-0.010845</td>\n",
       "      <td>No</td>\n",
       "    </tr>\n",
       "  </tbody>\n",
       "</table>\n",
       "</div>"
      ],
      "text/plain": [
       "                       Group  Baseline_3b8m  Intervention_3b8m  Improve_3b8m  \\\n",
       "0          Average Lift Rate         105.67              98.06      0.072017   \n",
       "1   Average Max Forward Bend          84.95              78.25      0.078870   \n",
       "2  Average Max Tilt Velocity          78.36              79.72     -0.017356   \n",
       "3     Average Twist Velocity          20.65              20.96     -0.015012   \n",
       "4       Average Safety Score          67.31              68.04     -0.010845   \n",
       "\n",
       "  Significant  \n",
       "0         Yes  \n",
       "1         Yes  \n",
       "2          No  \n",
       "3          No  \n",
       "4          No  "
      ]
     },
     "execution_count": 191,
     "metadata": {},
     "output_type": "execute_result"
    }
   ],
   "source": [
    "# result for 3b8m\n",
    "result_3b8m = pd.DataFrame({\n",
    "    'Group': comparables,\n",
    "    'Baseline_3b8m': df_b_3b8m_weighted_avg, 'Intervention_3b8m': df_i_3b8m_weighted_avg, 'Improve_3b8m': _3b8m_improve,\n",
    "    'Significant': ['Yes','Yes','No','No','No']})\n",
    "result_3b8m"
   ]
  },
  {
   "cell_type": "code",
   "execution_count": 192,
   "metadata": {},
   "outputs": [
    {
     "data": {
      "text/html": [
       "<div>\n",
       "<style scoped>\n",
       "    .dataframe tbody tr th:only-of-type {\n",
       "        vertical-align: middle;\n",
       "    }\n",
       "\n",
       "    .dataframe tbody tr th {\n",
       "        vertical-align: top;\n",
       "    }\n",
       "\n",
       "    .dataframe thead th {\n",
       "        text-align: right;\n",
       "    }\n",
       "</style>\n",
       "<table border=\"1\" class=\"dataframe\">\n",
       "  <thead>\n",
       "    <tr style=\"text-align: right;\">\n",
       "      <th></th>\n",
       "      <th>Group</th>\n",
       "      <th>Baseline_2b5m</th>\n",
       "      <th>Intervention_2b5m</th>\n",
       "      <th>Improve_2b5m</th>\n",
       "      <th>Significant</th>\n",
       "    </tr>\n",
       "  </thead>\n",
       "  <tbody>\n",
       "    <tr>\n",
       "      <th>0</th>\n",
       "      <td>Average Lift Rate</td>\n",
       "      <td>101.35</td>\n",
       "      <td>93.22</td>\n",
       "      <td>0.080217</td>\n",
       "      <td>Yes</td>\n",
       "    </tr>\n",
       "    <tr>\n",
       "      <th>1</th>\n",
       "      <td>Average Max Forward Bend</td>\n",
       "      <td>85.96</td>\n",
       "      <td>78.17</td>\n",
       "      <td>0.090624</td>\n",
       "      <td>Yes</td>\n",
       "    </tr>\n",
       "    <tr>\n",
       "      <th>2</th>\n",
       "      <td>Average Max Tilt Velocity</td>\n",
       "      <td>81.03</td>\n",
       "      <td>80.76</td>\n",
       "      <td>0.003332</td>\n",
       "      <td>No</td>\n",
       "    </tr>\n",
       "    <tr>\n",
       "      <th>3</th>\n",
       "      <td>Average Twist Velocity</td>\n",
       "      <td>20.10</td>\n",
       "      <td>20.24</td>\n",
       "      <td>-0.006965</td>\n",
       "      <td>No</td>\n",
       "    </tr>\n",
       "    <tr>\n",
       "      <th>4</th>\n",
       "      <td>Average Safety Score</td>\n",
       "      <td>66.69</td>\n",
       "      <td>68.24</td>\n",
       "      <td>-0.023242</td>\n",
       "      <td>Yes</td>\n",
       "    </tr>\n",
       "  </tbody>\n",
       "</table>\n",
       "</div>"
      ],
      "text/plain": [
       "                       Group  Baseline_2b5m  Intervention_2b5m  Improve_2b5m  \\\n",
       "0          Average Lift Rate         101.35              93.22      0.080217   \n",
       "1   Average Max Forward Bend          85.96              78.17      0.090624   \n",
       "2  Average Max Tilt Velocity          81.03              80.76      0.003332   \n",
       "3     Average Twist Velocity          20.10              20.24     -0.006965   \n",
       "4       Average Safety Score          66.69              68.24     -0.023242   \n",
       "\n",
       "  Significant  \n",
       "0         Yes  \n",
       "1         Yes  \n",
       "2          No  \n",
       "3          No  \n",
       "4         Yes  "
      ]
     },
     "execution_count": 192,
     "metadata": {},
     "output_type": "execute_result"
    }
   ],
   "source": [
    "# result for 2b5m\n",
    "result_2b5m = pd.DataFrame({\n",
    "    'Group': comparables,\n",
    "    'Baseline_2b5m': df_b_2b5m_weighted_avg, 'Intervention_2b5m': df_i_2b5m_weighted_avg, 'Improve_2b5m': _2b5m_improve,\n",
    "    'Significant': ['Yes','Yes','No','No','Yes']})\n",
    "result_2b5m"
   ]
  },
  {
   "cell_type": "code",
   "execution_count": 193,
   "metadata": {},
   "outputs": [
    {
     "data": {
      "text/html": [
       "<div>\n",
       "<style scoped>\n",
       "    .dataframe tbody tr th:only-of-type {\n",
       "        vertical-align: middle;\n",
       "    }\n",
       "\n",
       "    .dataframe tbody tr th {\n",
       "        vertical-align: top;\n",
       "    }\n",
       "\n",
       "    .dataframe thead th {\n",
       "        text-align: right;\n",
       "    }\n",
       "</style>\n",
       "<table border=\"1\" class=\"dataframe\">\n",
       "  <thead>\n",
       "    <tr style=\"text-align: right;\">\n",
       "      <th></th>\n",
       "      <th>Group</th>\n",
       "      <th>Baseline_2b10m</th>\n",
       "      <th>Intervention_2b10m</th>\n",
       "      <th>Improve_2b10m</th>\n",
       "      <th>Significant</th>\n",
       "    </tr>\n",
       "  </thead>\n",
       "  <tbody>\n",
       "    <tr>\n",
       "      <th>0</th>\n",
       "      <td>Average Lift Rate</td>\n",
       "      <td>102.20</td>\n",
       "      <td>92.49</td>\n",
       "      <td>0.095010</td>\n",
       "      <td>No</td>\n",
       "    </tr>\n",
       "    <tr>\n",
       "      <th>1</th>\n",
       "      <td>Average Max Forward Bend</td>\n",
       "      <td>84.33</td>\n",
       "      <td>75.60</td>\n",
       "      <td>0.103522</td>\n",
       "      <td>Yes</td>\n",
       "    </tr>\n",
       "    <tr>\n",
       "      <th>2</th>\n",
       "      <td>Average Max Tilt Velocity</td>\n",
       "      <td>78.06</td>\n",
       "      <td>77.35</td>\n",
       "      <td>0.009096</td>\n",
       "      <td>No</td>\n",
       "    </tr>\n",
       "    <tr>\n",
       "      <th>3</th>\n",
       "      <td>Average Twist Velocity</td>\n",
       "      <td>19.78</td>\n",
       "      <td>19.87</td>\n",
       "      <td>-0.004550</td>\n",
       "      <td>No</td>\n",
       "    </tr>\n",
       "    <tr>\n",
       "      <th>4</th>\n",
       "      <td>Average Safety Score</td>\n",
       "      <td>68.10</td>\n",
       "      <td>69.85</td>\n",
       "      <td>-0.025698</td>\n",
       "      <td>No</td>\n",
       "    </tr>\n",
       "  </tbody>\n",
       "</table>\n",
       "</div>"
      ],
      "text/plain": [
       "                       Group  Baseline_2b10m  Intervention_2b10m  \\\n",
       "0          Average Lift Rate          102.20               92.49   \n",
       "1   Average Max Forward Bend           84.33               75.60   \n",
       "2  Average Max Tilt Velocity           78.06               77.35   \n",
       "3     Average Twist Velocity           19.78               19.87   \n",
       "4       Average Safety Score           68.10               69.85   \n",
       "\n",
       "   Improve_2b10m Significant  \n",
       "0       0.095010          No  \n",
       "1       0.103522         Yes  \n",
       "2       0.009096          No  \n",
       "3      -0.004550          No  \n",
       "4      -0.025698          No  "
      ]
     },
     "execution_count": 193,
     "metadata": {},
     "output_type": "execute_result"
    }
   ],
   "source": [
    "# result for 2b10m\n",
    "result_2b10m = pd.DataFrame({\n",
    "    'Group': comparables,\n",
    "    'Baseline_2b10m': df_b_2b10m_weighted_avg, 'Intervention_2b10m': df_i_2b10m_weighted_avg, 'Improve_2b10m': _2b10m_improve,\n",
    "    'Significant': ['No','Yes','No','No','No']})\n",
    "result_2b10m"
   ]
  },
  {
   "cell_type": "markdown",
   "metadata": {},
   "source": [
    "## Summary insights and recommendations\n",
    "* Assumption 1: Average safety score is considered to be the most valuable metric for evaluating the overall performance\n",
    "* Assumption 2: The provided dataset is sufficient and could be considered as normal distributed.\n",
    "* Insight 1: In general, comparing to normal operation, the average safety scores improved and we could confidently conclude that the improvement is due to the equipment's protection - wearing the sensor and turning on the vibrational alerts.\n",
    "* Insight 2: Users could reduce the average number of bends per hour and the average max forward bend in degrees due to the vibrational alerts thus lowering the risk of being injured.\n",
    "* Insight 3: No evidence shows that there are significant changes or improvements for the speeds of tilt and twist.\n",
    "* Insight 4: When the vibrational alert is set to 2 bends in 5 minute window over 65 degrees, the equipment performed the best. The result shows significant improvement for lowering the average number of bends per hour, the average max forward bend in degrees, and most importantly, increasing the average safety score by 2.32%.\n",
    "* Recommendations: Among the 3 haptic options, user could benefit more when the vibrational alert is set to 2 bends in 5 minute window over 65 degrees."
   ]
  },
  {
   "cell_type": "markdown",
   "metadata": {},
   "source": [
    "### Future consideration\n",
    "* Different locations(warehouses) and job functions plus associated information should be taken into consideration.\n",
    "* Different variance/std by different file counts should be taken into consideration for best t-test result.\n",
    "* Based on the results of 3 haptic options, it might be the case that the more frequently the alert is triggered, the better result in protection may achieved. So more haptic options could be tested for best result."
   ]
  },
  {
   "cell_type": "code",
   "execution_count": null,
   "metadata": {},
   "outputs": [],
   "source": []
  }
 ],
 "metadata": {
  "kernelspec": {
   "display_name": "Python 3",
   "language": "python",
   "name": "python3"
  },
  "language_info": {
   "codemirror_mode": {
    "name": "ipython",
    "version": 3
   },
   "file_extension": ".py",
   "mimetype": "text/x-python",
   "name": "python",
   "nbconvert_exporter": "python",
   "pygments_lexer": "ipython3",
   "version": "3.8.5"
  }
 },
 "nbformat": 4,
 "nbformat_minor": 4
}
